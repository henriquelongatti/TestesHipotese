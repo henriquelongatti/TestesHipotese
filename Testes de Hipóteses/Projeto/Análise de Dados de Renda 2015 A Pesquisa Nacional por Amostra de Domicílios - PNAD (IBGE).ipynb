{
 "cells": [
  {
   "cell_type": "markdown",
   "metadata": {},
   "source": [
    "# Importando Bibliotecas "
   ]
  },
  {
   "cell_type": "code",
   "execution_count": 3,
   "metadata": {},
   "outputs": [],
   "source": [
    "import pandas as pd\n",
    "import numpy as np\n",
    "from scipy.stats import normaltest\n",
    "from scipy.stats import mannwhitneyu\n",
    "import matplotlib.pyplot as plt\n",
    "%matplotlib inline"
   ]
  },
  {
   "cell_type": "markdown",
   "metadata": {},
   "source": [
    "# Lendo Arquivo CSV"
   ]
  },
  {
   "cell_type": "code",
   "execution_count": 4,
   "metadata": {},
   "outputs": [],
   "source": [
    "df = pd.read_csv('../Dados/dados.csv')"
   ]
  },
  {
   "cell_type": "code",
   "execution_count": 5,
   "metadata": {},
   "outputs": [
    {
     "data": {
      "text/html": [
       "<div>\n",
       "<style scoped>\n",
       "    .dataframe tbody tr th:only-of-type {\n",
       "        vertical-align: middle;\n",
       "    }\n",
       "\n",
       "    .dataframe tbody tr th {\n",
       "        vertical-align: top;\n",
       "    }\n",
       "\n",
       "    .dataframe thead th {\n",
       "        text-align: right;\n",
       "    }\n",
       "</style>\n",
       "<table border=\"1\" class=\"dataframe\">\n",
       "  <thead>\n",
       "    <tr style=\"text-align: right;\">\n",
       "      <th></th>\n",
       "      <th>UF</th>\n",
       "      <th>Sexo</th>\n",
       "      <th>Idade</th>\n",
       "      <th>Cor</th>\n",
       "      <th>Anos de Estudo</th>\n",
       "      <th>Renda</th>\n",
       "      <th>Altura</th>\n",
       "    </tr>\n",
       "  </thead>\n",
       "  <tbody>\n",
       "    <tr>\n",
       "      <th>0</th>\n",
       "      <td>11</td>\n",
       "      <td>0</td>\n",
       "      <td>23</td>\n",
       "      <td>8</td>\n",
       "      <td>12</td>\n",
       "      <td>800</td>\n",
       "      <td>1.603808</td>\n",
       "    </tr>\n",
       "    <tr>\n",
       "      <th>1</th>\n",
       "      <td>11</td>\n",
       "      <td>1</td>\n",
       "      <td>23</td>\n",
       "      <td>2</td>\n",
       "      <td>12</td>\n",
       "      <td>1150</td>\n",
       "      <td>1.739790</td>\n",
       "    </tr>\n",
       "    <tr>\n",
       "      <th>2</th>\n",
       "      <td>11</td>\n",
       "      <td>1</td>\n",
       "      <td>35</td>\n",
       "      <td>8</td>\n",
       "      <td>15</td>\n",
       "      <td>880</td>\n",
       "      <td>1.760444</td>\n",
       "    </tr>\n",
       "    <tr>\n",
       "      <th>3</th>\n",
       "      <td>11</td>\n",
       "      <td>0</td>\n",
       "      <td>46</td>\n",
       "      <td>2</td>\n",
       "      <td>6</td>\n",
       "      <td>3500</td>\n",
       "      <td>1.783158</td>\n",
       "    </tr>\n",
       "    <tr>\n",
       "      <th>4</th>\n",
       "      <td>11</td>\n",
       "      <td>1</td>\n",
       "      <td>47</td>\n",
       "      <td>8</td>\n",
       "      <td>9</td>\n",
       "      <td>150</td>\n",
       "      <td>1.690631</td>\n",
       "    </tr>\n",
       "  </tbody>\n",
       "</table>\n",
       "</div>"
      ],
      "text/plain": [
       "   UF  Sexo  Idade  Cor  Anos de Estudo  Renda    Altura\n",
       "0  11     0     23    8              12    800  1.603808\n",
       "1  11     1     23    2              12   1150  1.739790\n",
       "2  11     1     35    8              15    880  1.760444\n",
       "3  11     0     46    2               6   3500  1.783158\n",
       "4  11     1     47    8               9    150  1.690631"
      ]
     },
     "execution_count": 5,
     "metadata": {},
     "output_type": "execute_result"
    }
   ],
   "source": [
    "df.head()"
   ]
  },
  {
   "cell_type": "markdown",
   "metadata": {},
   "source": [
    "Pesquisa Nacional por Amostra de Domicílios - 2015\n",
    "A Pesquisa Nacional por Amostra de Domicílios - PNAD investiga anualmente, de forma permanente, características gerais da população, de educação, trabalho, rendimento e habitação e outras, com periodicidade variável, de acordo com as necessidades de informação para o país, como as características sobre migração, fecundidade, nupcialidade, saúde, segurança alimentar, entre outros temas. O levantamento dessas estatísticas constitui, ao longo dos 49 anos de realização da pesquisa, um importante instrumento para formulação, validação e avaliação de políticas orientadas para o desenvolvimento socioeconômico e a melhoria das condições de vida no Brasil."
   ]
  },
  {
   "cell_type": "markdown",
   "metadata": {},
   "source": [
    "### Fonte dos Dados\n",
    "\n",
    "https://ww2.ibge.gov.br/home/estatistica/populacao/trabalhoerendimento/pnad2015/microdados.shtm"
   ]
  },
  {
   "cell_type": "code",
   "execution_count": 6,
   "metadata": {},
   "outputs": [],
   "source": [
    "UF = {'11': 'Rondônia',\n",
    "     '12': 'Acre',\n",
    "     '13': 'Amazonas',\n",
    "     '14': 'Roraima',\n",
    "     '15': 'Pará',\n",
    "     '16': 'Amapá',\n",
    "     '17': 'Tocantins',\n",
    "     '21': 'Maranhão',\n",
    "     '22': 'Piauí',\n",
    "     '23': 'Ceará',\n",
    "     '24': 'Rio Grande do Norte',\n",
    "     '25': 'Paraíba',\n",
    "     '26': 'Pernambuco',\n",
    "     '27': 'Alagoas',\n",
    "     '28': 'Sergipe',\n",
    "     '29': 'Bahia',\n",
    "     '31': 'Minas Gerais',\n",
    "     '32': 'Espírito Santo',\n",
    "     '33': 'Rio de Janeiro',\n",
    "     '35': 'São Paulo',\n",
    "     '41': 'Parana',\n",
    "     '42': 'Santa Cartarina',\n",
    "     '43': 'Rio Grande do Sul',\n",
    "     '50': 'Mato Grosso do Sul',\n",
    "     '51': 'Mato Grosso',\n",
    "     '52': 'Goiás',\n",
    "     '53': 'Distrito Federal'}"
   ]
  },
  {
   "cell_type": "code",
   "execution_count": 7,
   "metadata": {},
   "outputs": [],
   "source": [
    "Sexo = {'0': 'Masculino',\n",
    "       '1': 'Feminino'}"
   ]
  },
  {
   "cell_type": "code",
   "execution_count": 8,
   "metadata": {},
   "outputs": [],
   "source": [
    "Cor = {'0':'Indigena',\n",
    "      '2':'Branca',\n",
    "      '4':'Preta',\n",
    "      '6':'Amarela',\n",
    "      '8':'Parda',\n",
    "      '9':'Sem declaração'}"
   ]
  },
  {
   "cell_type": "code",
   "execution_count": 9,
   "metadata": {},
   "outputs": [],
   "source": [
    "df['UF'] = df['UF'].apply(str)\n",
    "df['Sexo'] = df['Sexo'].apply(str)\n",
    "df['Cor'] = df['Cor'].apply(str)"
   ]
  },
  {
   "cell_type": "code",
   "execution_count": 10,
   "metadata": {},
   "outputs": [
    {
     "data": {
      "text/plain": [
       "dtype('O')"
      ]
     },
     "execution_count": 10,
     "metadata": {},
     "output_type": "execute_result"
    }
   ],
   "source": [
    "df['UF'].dtypes"
   ]
  },
  {
   "cell_type": "code",
   "execution_count": 11,
   "metadata": {},
   "outputs": [],
   "source": [
    "df['UF'] = df['UF'].map(UF)\n",
    "df['Sexo'] = df['Sexo'].map(Sexo)\n",
    "df['Cor'] = df['Cor'].map(Cor)"
   ]
  },
  {
   "cell_type": "code",
   "execution_count": 12,
   "metadata": {},
   "outputs": [
    {
     "data": {
      "text/plain": [
       "UF                0\n",
       "Sexo              0\n",
       "Idade             0\n",
       "Cor               0\n",
       "Anos de Estudo    0\n",
       "Renda             0\n",
       "Altura            0\n",
       "dtype: int64"
      ]
     },
     "execution_count": 12,
     "metadata": {},
     "output_type": "execute_result"
    }
   ],
   "source": [
    "df.isna().sum()"
   ]
  },
  {
   "cell_type": "code",
   "execution_count": 13,
   "metadata": {},
   "outputs": [
    {
     "data": {
      "text/html": [
       "<div>\n",
       "<style scoped>\n",
       "    .dataframe tbody tr th:only-of-type {\n",
       "        vertical-align: middle;\n",
       "    }\n",
       "\n",
       "    .dataframe tbody tr th {\n",
       "        vertical-align: top;\n",
       "    }\n",
       "\n",
       "    .dataframe thead th {\n",
       "        text-align: right;\n",
       "    }\n",
       "</style>\n",
       "<table border=\"1\" class=\"dataframe\">\n",
       "  <thead>\n",
       "    <tr style=\"text-align: right;\">\n",
       "      <th></th>\n",
       "      <th>UF</th>\n",
       "      <th>Sexo</th>\n",
       "      <th>Idade</th>\n",
       "      <th>Cor</th>\n",
       "      <th>Anos de Estudo</th>\n",
       "      <th>Renda</th>\n",
       "      <th>Altura</th>\n",
       "    </tr>\n",
       "  </thead>\n",
       "  <tbody>\n",
       "    <tr>\n",
       "      <th>0</th>\n",
       "      <td>Rondônia</td>\n",
       "      <td>Masculino</td>\n",
       "      <td>23</td>\n",
       "      <td>Parda</td>\n",
       "      <td>12</td>\n",
       "      <td>800</td>\n",
       "      <td>1.603808</td>\n",
       "    </tr>\n",
       "    <tr>\n",
       "      <th>1</th>\n",
       "      <td>Rondônia</td>\n",
       "      <td>Feminino</td>\n",
       "      <td>23</td>\n",
       "      <td>Branca</td>\n",
       "      <td>12</td>\n",
       "      <td>1150</td>\n",
       "      <td>1.739790</td>\n",
       "    </tr>\n",
       "    <tr>\n",
       "      <th>2</th>\n",
       "      <td>Rondônia</td>\n",
       "      <td>Feminino</td>\n",
       "      <td>35</td>\n",
       "      <td>Parda</td>\n",
       "      <td>15</td>\n",
       "      <td>880</td>\n",
       "      <td>1.760444</td>\n",
       "    </tr>\n",
       "    <tr>\n",
       "      <th>3</th>\n",
       "      <td>Rondônia</td>\n",
       "      <td>Masculino</td>\n",
       "      <td>46</td>\n",
       "      <td>Branca</td>\n",
       "      <td>6</td>\n",
       "      <td>3500</td>\n",
       "      <td>1.783158</td>\n",
       "    </tr>\n",
       "    <tr>\n",
       "      <th>4</th>\n",
       "      <td>Rondônia</td>\n",
       "      <td>Feminino</td>\n",
       "      <td>47</td>\n",
       "      <td>Parda</td>\n",
       "      <td>9</td>\n",
       "      <td>150</td>\n",
       "      <td>1.690631</td>\n",
       "    </tr>\n",
       "  </tbody>\n",
       "</table>\n",
       "</div>"
      ],
      "text/plain": [
       "         UF       Sexo  Idade     Cor  Anos de Estudo  Renda    Altura\n",
       "0  Rondônia  Masculino     23   Parda              12    800  1.603808\n",
       "1  Rondônia   Feminino     23  Branca              12   1150  1.739790\n",
       "2  Rondônia   Feminino     35   Parda              15    880  1.760444\n",
       "3  Rondônia  Masculino     46  Branca               6   3500  1.783158\n",
       "4  Rondônia   Feminino     47   Parda               9    150  1.690631"
      ]
     },
     "execution_count": 13,
     "metadata": {},
     "output_type": "execute_result"
    }
   ],
   "source": [
    "df.head()"
   ]
  },
  {
   "cell_type": "code",
   "execution_count": 14,
   "metadata": {},
   "outputs": [],
   "source": [
    "\n",
    "filtro_renda = df[df['Renda']<=10000]\n",
    "filtro_renda_bp = df[df['Renda']<=5000]"
   ]
  },
  {
   "cell_type": "markdown",
   "metadata": {},
   "source": [
    "# Funções "
   ]
  },
  {
   "cell_type": "code",
   "execution_count": 15,
   "metadata": {},
   "outputs": [],
   "source": [
    "def porcentagem_populacao(dataframe,q1,q3):\n",
    "    filtro = [dataframe['Renda']>= q1] and [dataframe['Renda'] <= q3]\n",
    "    filtro_df = dataframe[filtro[0]]\n",
    "    return filtro_df.shape[0]/dataframe.shape[0]"
   ]
  },
  {
   "cell_type": "markdown",
   "metadata": {},
   "source": [
    "# Cálculos estatístico da Renda de toda população brasileira"
   ]
  },
  {
   "cell_type": "markdown",
   "metadata": {},
   "source": [
    "###  Fazer uma função que que recebe uma banco de dados e um intervalo de renda e retorna a porcentagem da população"
   ]
  },
  {
   "cell_type": "code",
   "execution_count": 16,
   "metadata": {},
   "outputs": [
    {
     "data": {
      "text/plain": [
       "2000.3831988547631"
      ]
     },
     "execution_count": 16,
     "metadata": {},
     "output_type": "execute_result"
    }
   ],
   "source": [
    "renda_media_total = df['Renda'].mean()\n",
    "renda_media_total"
   ]
  },
  {
   "cell_type": "code",
   "execution_count": 17,
   "metadata": {},
   "outputs": [
    {
     "data": {
      "text/plain": [
       "1200.0"
      ]
     },
     "execution_count": 17,
     "metadata": {},
     "output_type": "execute_result"
    }
   ],
   "source": [
    "renda_mediana_total = df['Renda'].median()\n",
    "renda_mediana_total"
   ]
  },
  {
   "cell_type": "code",
   "execution_count": 18,
   "metadata": {},
   "outputs": [
    {
     "data": {
      "text/plain": [
       "788.0"
      ]
     },
     "execution_count": 18,
     "metadata": {},
     "output_type": "execute_result"
    }
   ],
   "source": [
    "q1, _, q3 = df['Renda'].quantile([0.25, 0.5, 0.75])\n",
    "q1"
   ]
  },
  {
   "cell_type": "code",
   "execution_count": 19,
   "metadata": {},
   "outputs": [
    {
     "data": {
      "text/plain": [
       "200000"
      ]
     },
     "execution_count": 19,
     "metadata": {},
     "output_type": "execute_result"
    }
   ],
   "source": [
    "renda_maxima = df['Renda'].max()\n",
    "renda_maxima\n"
   ]
  },
  {
   "cell_type": "code",
   "execution_count": 20,
   "metadata": {},
   "outputs": [
    {
     "data": {
      "text/plain": [
       "0"
      ]
     },
     "execution_count": 20,
     "metadata": {},
     "output_type": "execute_result"
    }
   ],
   "source": [
    "renda_minima = df['Renda'].min()\n",
    "renda_minima"
   ]
  },
  {
   "cell_type": "code",
   "execution_count": 21,
   "metadata": {},
   "outputs": [
    {
     "name": "stdout",
     "output_type": "stream",
     "text": [
      "76.10 % da população brasileira vive com um salario entre R$788.00 e R$2000.00\n"
     ]
    }
   ],
   "source": [
    "print('{:.2f} % da população brasileira vive com um salario entre R${:.2f} e R${:.2f}'.format(porcentagem_populacao(df,q1,q3) *100, q1,q3))"
   ]
  },
  {
   "cell_type": "markdown",
   "metadata": {},
   "source": [
    "## Histogramas "
   ]
  },
  {
   "cell_type": "code",
   "execution_count": 22,
   "metadata": {
    "scrolled": true
   },
   "outputs": [
    {
     "data": {
      "text/plain": [
       "<matplotlib.legend.Legend at 0x16732ec7860>"
      ]
     },
     "execution_count": 22,
     "metadata": {},
     "output_type": "execute_result"
    },
    {
     "data": {
      "image/png": "[encoded data removed]",
      "text/plain": [
       "<Figure size 720x288 with 1 Axes>"
      ]
     },
     "metadata": {},
     "output_type": "display_data"
    }
   ],
   "source": [
    "fig = plt.figure(figsize=(10,4))\n",
    "eixo = fig.add_axes([0,0,1,1])\n",
    "\n",
    "eixo.hist(filtro_renda['Renda'], bins=50, density=True)\n",
    "eixo.set_title('Histograma', fontsize=15, pad=10)\n",
    "eixo.set_xlabel('Renda do Brasileiro', fontsize=15)\n",
    "eixo.grid(True)\n",
    "\n",
    "cores = {'Média-da-Renda': 'k', 'Mediana-da-Renda': 'r'}\n",
    "\n",
    "eixo.axvline(renda_media_total, color = 'k', linestyle='--')\n",
    "eixo.axvline(renda_mediana_total, color = 'r', linestyle='--')\n",
    "eixo.legend(cores, fontsize=20)\n",
    "\n",
    "\n",
    "#fig.savefig('../Dados/imagens/histograma_renda.png', bbox_inches='tight')"
   ]
  },
  {
   "cell_type": "markdown",
   "metadata": {},
   "source": [
    "# Teste de Normalidade"
   ]
  },
  {
   "cell_type": "code",
   "execution_count": 23,
   "metadata": {
    "scrolled": true
   },
   "outputs": [
    {
     "name": "stdout",
     "output_type": "stream",
     "text": [
      "152380.75803960307\n",
      "0.0\n"
     ]
    }
   ],
   "source": [
    "stat_test, p_valor = normaltest(df.Renda)\n",
    "print(stat_test)\n",
    "print(p_valor)"
   ]
  },
  {
   "cell_type": "markdown",
   "metadata": {},
   "source": [
    "### <font color='red'>Critério do valor $p$</font>\n",
    "\n",
    "> ### Rejeitar $H_0$ se o valor $p\\leq 0,05$"
   ]
  },
  {
   "cell_type": "code",
   "execution_count": 24,
   "metadata": {
    "scrolled": true
   },
   "outputs": [
    {
     "data": {
      "text/plain": [
       "True"
      ]
     },
     "execution_count": 24,
     "metadata": {},
     "output_type": "execute_result"
    }
   ],
   "source": [
    "p_valor <= 0.05"
   ]
  },
  {
   "cell_type": "markdown",
   "metadata": {},
   "source": [
    "### Logo essa distribuição não é normal"
   ]
  },
  {
   "cell_type": "markdown",
   "metadata": {},
   "source": [
    "# Teste de Mann-Whitney"
   ]
  },
  {
   "cell_type": "markdown",
   "metadata": {},
   "source": [
    "Comparação de duas amostras independentes"
   ]
  },
  {
   "cell_type": "code",
   "execution_count": 30,
   "metadata": {},
   "outputs": [],
   "source": [
    "mulheres = df.query('Sexo == \"Feminino\" and Renda > 0').sample(n = 10, random_state = 101).Renda\n",
    "homens = df.query('Sexo == \"Masculino\" and Renda > 0').sample(n = 10, random_state = 101).Renda\n",
    "significancia = 0.05"
   ]
  },
  {
   "cell_type": "markdown",
   "metadata": {},
   "source": [
    "### $\\mu_m \\Rightarrow$ Média das rendas dos chefes de domicílios do sexo feminino\n",
    "### $\\mu_h \\Rightarrow$ Média das rendas dos chefes de domicílios do sexo masculino\n",
    "\n",
    "### $\n",
    "\\begin{cases}\n",
    "H_0: \\mu_m = \\mu_h\\\\\n",
    "H_1: \\mu_m < \\mu_h\n",
    "\\end{cases}\n",
    "$"
   ]
  },
  {
   "cell_type": "markdown",
   "metadata": {},
   "source": [
    "Deve-se optar pela distribuição **$t$ de Student**, já que nada é mencionado sobre a distribuição da população, o desvio padrão populacional é desconhecido e o número de elementos investigados é menor que 30."
   ]
  },
  {
   "cell_type": "code",
   "execution_count": 29,
   "metadata": {
    "scrolled": true
   },
   "outputs": [
    {
     "name": "stdout",
     "output_type": "stream",
     "text": [
      "25.0\n",
      "0.03161141467553912\n"
     ]
    }
   ],
   "source": [
    "u, p_valor = mannwhitneyu(mulheres, homens, alternative='less')\n",
    "print(u)\n",
    "print(p_valor)"
   ]
  },
  {
   "cell_type": "code",
   "execution_count": 31,
   "metadata": {},
   "outputs": [
    {
     "data": {
      "text/plain": [
       "True"
      ]
     },
     "execution_count": 31,
     "metadata": {},
     "output_type": "execute_result"
    }
   ],
   "source": [
    "p_valor <= significancia"
   ]
  },
  {
   "cell_type": "markdown",
   "metadata": {},
   "source": [
    "### <font color='green'>Conclusão: Rejeitamos a hipótese de que não existe diferença entre os grupos, isto é, concluímos que a média das rendas dos chefes de domicílios do sexo feminino é menor que a média das rendas dos chefes de domicílios do sexo masculino. Confirmando a alegação de desigualdade de renda entre os sexos.</font>"
   ]
  },
  {
   "cell_type": "markdown",
   "metadata": {},
   "source": [
    "## BoxPlot"
   ]
  },
  {
   "cell_type": "code",
   "execution_count": null,
   "metadata": {},
   "outputs": [],
   "source": [
    "fig = plt.figure(figsize=(5,4))\n",
    "eixo = fig.add_axes([0,0,1,1])\n",
    "\n",
    "eixo.boxplot(filtro_renda_bp['Renda'])\n",
    "eixo.set_title('Gráfico de caixa', fontsize=15, pad=10)\n",
    "eixo.set_xticklabels(['Renda Brasileria'])\n",
    "eixo.grid(True)\n",
    "\n",
    "#fig.savefig('../Dados/imagens/boxpot_renda.png', bbox_inches='tight')"
   ]
  },
  {
   "cell_type": "markdown",
   "metadata": {},
   "source": [
    "# Cálculo estatisco da população parda brasileira "
   ]
  },
  {
   "cell_type": "code",
   "execution_count": null,
   "metadata": {},
   "outputs": [],
   "source": [
    "pardos = df['Cor'] == 'Parda'"
   ]
  },
  {
   "cell_type": "code",
   "execution_count": null,
   "metadata": {
    "scrolled": false
   },
   "outputs": [],
   "source": [
    "df_pardos = df[pardos]\n",
    "df_pardos.head()"
   ]
  },
  {
   "cell_type": "code",
   "execution_count": null,
   "metadata": {},
   "outputs": [],
   "source": [
    "filtro_pardos = df_pardos[df_pardos['Renda'] <= 10000]\n",
    "filtro_pardos_bp = df_pardos[df_pardos['Renda'] <= 5000]"
   ]
  },
  {
   "cell_type": "code",
   "execution_count": null,
   "metadata": {},
   "outputs": [],
   "source": [
    "renda_media_pardos = df_pardos['Renda'].mean()\n",
    "renda_media_pardos"
   ]
  },
  {
   "cell_type": "code",
   "execution_count": null,
   "metadata": {},
   "outputs": [],
   "source": [
    "renda_mediana_pardos = df_pardos['Renda'].median()\n",
    "renda_mediana_pardos"
   ]
  },
  {
   "cell_type": "code",
   "execution_count": null,
   "metadata": {},
   "outputs": [],
   "source": [
    "q1,_,q3 = df_pardos['Renda'].quantile([0.25, 0.5, 0.75])"
   ]
  },
  {
   "cell_type": "code",
   "execution_count": null,
   "metadata": {},
   "outputs": [],
   "source": [
    "print('{:.2f} % da parda vive com um salario entre R${:.2f} e R${:.2f}'.format(porcentagem_populacao(df_pardos,q1,q3) *100, q1,q3))"
   ]
  },
  {
   "cell_type": "code",
   "execution_count": null,
   "metadata": {},
   "outputs": [],
   "source": [
    "maximo_pardos = df_pardos['Renda'].max()\n",
    "maximo_pardos"
   ]
  },
  {
   "cell_type": "code",
   "execution_count": null,
   "metadata": {},
   "outputs": [],
   "source": [
    "minimo_pardos = df_pardos['Renda'].min()\n",
    "minimo_pardos"
   ]
  },
  {
   "cell_type": "markdown",
   "metadata": {},
   "source": [
    "## Exportando csv"
   ]
  },
  {
   "cell_type": "code",
   "execution_count": null,
   "metadata": {},
   "outputs": [],
   "source": [
    "df_pardos_tratado = df_pardos.drop(['Cor','Altura'], axis=1)\n",
    "df_pardos_tratado.to_csv('../Dados/dados_pardos.csv',index=False)\n"
   ]
  },
  {
   "cell_type": "markdown",
   "metadata": {},
   "source": [
    "   # Histograma "
   ]
  },
  {
   "cell_type": "code",
   "execution_count": null,
   "metadata": {},
   "outputs": [],
   "source": [
    "fig = plt.figure(figsize=(10,4))\n",
    "eixo = fig.add_axes([0,0,1,1])\n",
    "\n",
    "eixo.hist(filtro_pardos['Renda'], bins=50, density=True)\n",
    "eixo.set_title('Histograma', fontsize=15, pad=10)\n",
    "eixo.set_xlabel('Renda da população parda brasileira', fontsize=15)\n",
    "eixo.grid(True)\n",
    "\n",
    "cores = {'Média-da-Renda': 'k', 'Mediana-da-Renda': 'r'}\n",
    "\n",
    "eixo.axvline(renda_media_pardos, color = 'k', linestyle='--')\n",
    "eixo.axvline(renda_mediana_pardos, color = 'r', linestyle='--')\n",
    "eixo.legend(cores, fontsize=20)\n",
    "\n",
    "#fig.savefig('../Dados/imagens/histograma_renda_pardos.png', bbox_inches='tight')"
   ]
  },
  {
   "cell_type": "markdown",
   "metadata": {},
   "source": [
    " ## BoxPlot"
   ]
  },
  {
   "cell_type": "code",
   "execution_count": null,
   "metadata": {},
   "outputs": [],
   "source": [
    "fig = plt.figure(figsize=(5,4))\n",
    "eixo = fig.add_axes([0,0,1,1])\n",
    "\n",
    "eixo.boxplot(filtro_pardos_bp['Renda'])\n",
    "eixo.set_title('Gráfico de caixa', fontsize=15, pad=10)\n",
    "eixo.set_xticklabels(['Renda população parda brasileira'])\n",
    "eixo.grid(True)\n",
    "\n",
    "#fig.savefig('../Dados/imagens/boxplot_renda_pardos.png', bbox_inches='tight')"
   ]
  },
  {
   "cell_type": "markdown",
   "metadata": {},
   "source": [
    "# Cálculo estatístico da população branca brasileira"
   ]
  },
  {
   "cell_type": "code",
   "execution_count": null,
   "metadata": {},
   "outputs": [],
   "source": [
    "df_brancos = df[df['Cor'] == 'Branca']\n",
    "df_brancos.head()"
   ]
  },
  {
   "cell_type": "code",
   "execution_count": null,
   "metadata": {},
   "outputs": [],
   "source": [
    "filtro_branco = df_brancos[df_brancos['Renda'] <=10000]\n",
    "filtro_branco_bp = df_brancos[df_brancos['Renda'] <=5000]"
   ]
  },
  {
   "cell_type": "code",
   "execution_count": null,
   "metadata": {},
   "outputs": [],
   "source": [
    "renda_media_branca = df_brancos['Renda'].mean()\n",
    "renda_media_branca"
   ]
  },
  {
   "cell_type": "code",
   "execution_count": null,
   "metadata": {},
   "outputs": [],
   "source": [
    "renda_mediana_branca = df_brancos['Renda'].median()\n",
    "renda_mediana_branca"
   ]
  },
  {
   "cell_type": "code",
   "execution_count": null,
   "metadata": {},
   "outputs": [],
   "source": [
    "q1,_,q3 = df_brancos['Renda'].quantile([0.25,0.5,0.75])"
   ]
  },
  {
   "cell_type": "code",
   "execution_count": null,
   "metadata": {},
   "outputs": [],
   "source": [
    "print('{:.2f} % da população branca vive com um salario entre R${:.2f} e R${:.2f}'.format(porcentagem_populacao(df_brancos,q1,q3) *100, q1,q3))"
   ]
  },
  {
   "cell_type": "code",
   "execution_count": null,
   "metadata": {},
   "outputs": [],
   "source": [
    "maximo_branco = df_brancos['Renda'].max()\n",
    "maximo_branco"
   ]
  },
  {
   "cell_type": "code",
   "execution_count": null,
   "metadata": {},
   "outputs": [],
   "source": [
    "minimo_branco = df_brancos['Renda'].min()\n",
    "minimo_branco"
   ]
  },
  {
   "cell_type": "markdown",
   "metadata": {},
   "source": [
    "## Exportando csv"
   ]
  },
  {
   "cell_type": "code",
   "execution_count": null,
   "metadata": {},
   "outputs": [],
   "source": [
    "df_brancos_tratado = df_brancos.drop(['Cor','Altura'], axis=1)\n",
    "df_brancos_tratado.to_csv('../Dados/dados_brancos.csv',index=False)"
   ]
  },
  {
   "cell_type": "markdown",
   "metadata": {},
   "source": [
    "## Histograma"
   ]
  },
  {
   "cell_type": "code",
   "execution_count": null,
   "metadata": {
    "scrolled": true
   },
   "outputs": [],
   "source": [
    "fig = plt.figure(figsize=(10,4))\n",
    "eixo = fig.add_axes([0,0,1,1])\n",
    "\n",
    "eixo.hist(filtro_branco['Renda'], bins=50, density=True)\n",
    "eixo.set_title('Histograma', fontsize=15, pad=10)\n",
    "eixo.set_xlabel('Renda da população branca brasileira', fontsize=15)\n",
    "eixo.grid(True)\n",
    "\n",
    "cores = {'Média-da-Renda': 'k', 'Mediana-da-Renda': 'r'}\n",
    "\n",
    "eixo.axvline(renda_media_branca, color = 'k', linestyle='--')\n",
    "eixo.axvline(renda_mediana_branca, color = 'r', linestyle='--')\n",
    "eixo.legend(cores, fontsize=20)\n",
    "\n",
    "#fig.savefig('../Dados/imagens/histograma_renda_brancos.png', bbox_inches='tight')"
   ]
  },
  {
   "cell_type": "markdown",
   "metadata": {},
   "source": [
    "## BoxPlot "
   ]
  },
  {
   "cell_type": "code",
   "execution_count": null,
   "metadata": {
    "scrolled": false
   },
   "outputs": [],
   "source": [
    "fig = plt.figure(figsize=(5,4))\n",
    "eixo = fig.add_axes([0,0,1,1])\n",
    "\n",
    "eixo.boxplot(filtro_branco_bp['Renda'])\n",
    "eixo.set_title('Gráfico de caixa', fontsize=15, pad=10)\n",
    "eixo.set_xticklabels(['Renda população branca brasileira'])\n",
    "eixo.grid(True)\n",
    "\n",
    "#fig.savefig('../Dados/imagens/boxplot_renda_brancos.png', bbox_inches='tight')"
   ]
  },
  {
   "cell_type": "markdown",
   "metadata": {},
   "source": [
    "### OBS: Esses dados são auto declarados. Eu acredito que ocorra uma sobreposição entre as declarações.   "
   ]
  },
  {
   "cell_type": "markdown",
   "metadata": {},
   "source": [
    "# Cálculo estatístico da população indigena brasileira"
   ]
  },
  {
   "cell_type": "code",
   "execution_count": null,
   "metadata": {},
   "outputs": [],
   "source": [
    "df_indigena = df[df['Cor'] == 'Indigena']\n",
    "df_indigena.head()"
   ]
  },
  {
   "cell_type": "code",
   "execution_count": null,
   "metadata": {},
   "outputs": [],
   "source": [
    "filtro_indigena = df_indigena[df_indigena['Renda'] <= 10000]\n",
    "filtro_indigena_bp = df_indigena[df_indigena['Renda'] <= 5000]"
   ]
  },
  {
   "cell_type": "code",
   "execution_count": null,
   "metadata": {},
   "outputs": [],
   "source": [
    "renda_media_indigena = df_indigena['Renda'].mean()\n",
    "renda_media_indigena"
   ]
  },
  {
   "cell_type": "code",
   "execution_count": null,
   "metadata": {},
   "outputs": [],
   "source": [
    "renda_mediana_indigena = df_indigena['Renda'].median()\n",
    "renda_mediana_indigena"
   ]
  },
  {
   "cell_type": "code",
   "execution_count": null,
   "metadata": {},
   "outputs": [],
   "source": [
    "q1,_,q3=df_indigena['Renda'].quantile([0.25,0.5,0.75])"
   ]
  },
  {
   "cell_type": "code",
   "execution_count": null,
   "metadata": {},
   "outputs": [],
   "source": [
    "print('{:.2f} % da população indigena vive com um salario entre R${:.2f} e R${:.2f}'.format(porcentagem_populacao(df_indigena,q1,q3) *100, q1,q3))"
   ]
  },
  {
   "cell_type": "code",
   "execution_count": null,
   "metadata": {},
   "outputs": [],
   "source": [
    "maximo_indigena = df_indigena['Renda'].max()\n",
    "maximo_indigena"
   ]
  },
  {
   "cell_type": "code",
   "execution_count": null,
   "metadata": {},
   "outputs": [],
   "source": [
    "minimo_indigena = df_indigena['Renda'].min()\n",
    "minimo_indigena"
   ]
  },
  {
   "cell_type": "markdown",
   "metadata": {},
   "source": [
    "## Exportando csv"
   ]
  },
  {
   "cell_type": "code",
   "execution_count": null,
   "metadata": {},
   "outputs": [],
   "source": [
    "df_indigena_tratado = df_indigena.drop(['Cor','Altura'], axis=1)\n",
    "df_indigena_tratado.to_csv('../Dados/dados_indigena.csv',index=False)"
   ]
  },
  {
   "cell_type": "markdown",
   "metadata": {},
   "source": [
    "## Histograma"
   ]
  },
  {
   "cell_type": "code",
   "execution_count": null,
   "metadata": {
    "scrolled": true
   },
   "outputs": [],
   "source": [
    "fig = plt.figure(figsize=(10,4))\n",
    "eixo = fig.add_axes([0,0,1,1])\n",
    "\n",
    "eixo.hist(filtro_indigena['Renda'], bins=50, density=True)\n",
    "eixo.set_title('Histograma', fontsize=15, pad=10)\n",
    "eixo.set_xlabel('Renda do indigena brasileiro', fontsize=15)\n",
    "eixo.grid(True)\n",
    "\n",
    "cores = {'Média-da-Renda': 'k', 'Mediana-da-Renda': 'r'}\n",
    "\n",
    "eixo.axvline(renda_media_indigena, color = 'k', linestyle='--')\n",
    "eixo.axvline(renda_mediana_indigena, color = 'r', linestyle='--')\n",
    "eixo.legend(cores, fontsize=20)\n",
    "\n",
    "#fig.savefig('../Dados/imagens/histograma_renda_indigena.png', bbox_inches='tight')"
   ]
  },
  {
   "cell_type": "markdown",
   "metadata": {},
   "source": [
    "## BoxPlot "
   ]
  },
  {
   "cell_type": "code",
   "execution_count": null,
   "metadata": {},
   "outputs": [],
   "source": [
    "fig = plt.figure(figsize=(5,4))\n",
    "eixo = fig.add_axes([0,0,1,1])\n",
    "\n",
    "eixo.boxplot(filtro_indigena_bp['Renda'])\n",
    "eixo.set_title('Gráfico de caixa', fontsize=15, pad=10)\n",
    "eixo.set_xticklabels(['Renda população indigena brasileira'])\n",
    "eixo.grid(True)\n",
    "\n",
    "#fig.savefig('../Dados/imagens/boxplot_renda_indinega.png', bbox_inches='tight')"
   ]
  },
  {
   "cell_type": "markdown",
   "metadata": {},
   "source": [
    "# Cálculo estatístico da população preta brasileira "
   ]
  },
  {
   "cell_type": "code",
   "execution_count": null,
   "metadata": {},
   "outputs": [],
   "source": [
    "df_preta = df[df['Cor'] == 'Preta']\n",
    "df_preta.head()"
   ]
  },
  {
   "cell_type": "code",
   "execution_count": null,
   "metadata": {},
   "outputs": [],
   "source": [
    "filtro_preta = df_preta[df_preta['Renda'] <= 10000]\n",
    "filtro_preta_bp = df_preta[df_preta['Renda'] <= 5000]"
   ]
  },
  {
   "cell_type": "code",
   "execution_count": null,
   "metadata": {},
   "outputs": [],
   "source": [
    "renda_media_preta = df_preta['Renda'].mean()\n",
    "renda_media_preta"
   ]
  },
  {
   "cell_type": "code",
   "execution_count": null,
   "metadata": {},
   "outputs": [],
   "source": [
    "renda_mediana_preta = df_preta['Renda'].median()\n",
    "renda_mediana_preta"
   ]
  },
  {
   "cell_type": "code",
   "execution_count": null,
   "metadata": {
    "scrolled": true
   },
   "outputs": [],
   "source": [
    "q1,_,q3 = df_preta['Renda'].quantile([0.25,0.5,0.75])"
   ]
  },
  {
   "cell_type": "code",
   "execution_count": null,
   "metadata": {},
   "outputs": [],
   "source": [
    "print('{:.2f} % da população preta vive com um salario entre R${:.2f} e R${:.2f}'.format(porcentagem_populacao(df_preta,q1,q3) *100, q1,q3))"
   ]
  },
  {
   "cell_type": "code",
   "execution_count": null,
   "metadata": {},
   "outputs": [],
   "source": [
    "maximo_preta = df_preta['Renda'].max()\n",
    "maximo_preta"
   ]
  },
  {
   "cell_type": "code",
   "execution_count": null,
   "metadata": {},
   "outputs": [],
   "source": [
    "minimo_preta = df_preta['Renda'].min()\n",
    "minimo_preta"
   ]
  },
  {
   "cell_type": "markdown",
   "metadata": {},
   "source": [
    "## Exportando Dados "
   ]
  },
  {
   "cell_type": "code",
   "execution_count": null,
   "metadata": {},
   "outputs": [],
   "source": [
    "df_preta_tratado = df_preta.drop(['Cor','Altura'], axis=1)\n",
    "df_preta_tratado.to_csv('../Dados/dados_preta.csv',index=False)"
   ]
  },
  {
   "cell_type": "markdown",
   "metadata": {},
   "source": [
    " ## Histograma"
   ]
  },
  {
   "cell_type": "code",
   "execution_count": null,
   "metadata": {
    "scrolled": true
   },
   "outputs": [],
   "source": [
    "fig = plt.figure(figsize=(10,4))\n",
    "eixo = fig.add_axes([0,0,1,1])\n",
    "\n",
    "eixo.hist(filtro_preta['Renda'], bins=50, density=True)\n",
    "eixo.set_title('Histograma', fontsize=15, pad=10)\n",
    "eixo.set_xlabel('Renda do da população preta brasileira', fontsize=15)\n",
    "eixo.grid(True)\n",
    "\n",
    "cores = {'Média-da-Renda': 'k', 'Mediana-da-Renda': 'r'}\n",
    "\n",
    "eixo.axvline(renda_media_preta, color = 'k', linestyle='--')\n",
    "eixo.axvline(renda_mediana_preta, color = 'r', linestyle='--')\n",
    "eixo.legend(cores, fontsize=20)\n",
    "\n",
    "#fig.savefig('../Dados/imagens/histograma_renda_preta.png', bbox_inches='tight')"
   ]
  },
  {
   "cell_type": "markdown",
   "metadata": {},
   "source": [
    "## Boxplot "
   ]
  },
  {
   "cell_type": "code",
   "execution_count": null,
   "metadata": {},
   "outputs": [],
   "source": [
    "fig = plt.figure(figsize=(5,4))\n",
    "eixo = fig.add_axes([0,0,1,1])\n",
    "\n",
    "eixo.boxplot(filtro_preta_bp['Renda'])\n",
    "eixo.set_title('Gráfico de caixa', fontsize=15, pad=10)\n",
    "eixo.set_xticklabels(['Renda população preta brasileira'])\n",
    "eixo.grid(True)\n",
    "\n",
    "#fig.savefig('../Dados/imagens/boxplot_renda_preta.png', bbox_inches='tight')"
   ]
  },
  {
   "cell_type": "markdown",
   "metadata": {},
   "source": [
    "## Cálculo estatístico da população amarela brasileira "
   ]
  },
  {
   "cell_type": "code",
   "execution_count": null,
   "metadata": {
    "scrolled": true
   },
   "outputs": [],
   "source": [
    "df_amarela = df[df['Cor'] == 'Amarela']\n",
    "df_amarela.head()"
   ]
  },
  {
   "cell_type": "code",
   "execution_count": null,
   "metadata": {},
   "outputs": [],
   "source": [
    "filtro_amarela = df_amarela[df_amarela['Renda'] <= 10000 ]\n",
    "filtro_amarela_bp = df_amarela[df_amarela['Renda'] <= 5000]"
   ]
  },
  {
   "cell_type": "code",
   "execution_count": null,
   "metadata": {},
   "outputs": [],
   "source": [
    "renda_media_amarela = df_amarela['Renda'].mean()\n",
    "renda_media_amarela"
   ]
  },
  {
   "cell_type": "code",
   "execution_count": null,
   "metadata": {},
   "outputs": [],
   "source": [
    "renda_mediana_amarela = df_amarela['Renda'].median()\n",
    "renda_mediana_amarela"
   ]
  },
  {
   "cell_type": "code",
   "execution_count": null,
   "metadata": {},
   "outputs": [],
   "source": [
    "q1,_,q3 = df_amarela['Renda'].quantile([0.25,0.5,0.75])"
   ]
  },
  {
   "cell_type": "code",
   "execution_count": null,
   "metadata": {},
   "outputs": [],
   "source": [
    "print('{:.2f} % da população amarela vive com um salario entre R${:.2f} e R${:.2f}'.format(porcentagem_populacao(df_amarela,q1,q3) *100, q1,q3))"
   ]
  },
  {
   "cell_type": "code",
   "execution_count": null,
   "metadata": {},
   "outputs": [],
   "source": [
    "maximo_amarela = df_amarela['Renda'].max()\n",
    "maximo_amarela"
   ]
  },
  {
   "cell_type": "code",
   "execution_count": null,
   "metadata": {},
   "outputs": [],
   "source": [
    "minimo_amarela = df_amarela['Renda'].min()\n",
    "minimo_amarela"
   ]
  },
  {
   "cell_type": "markdown",
   "metadata": {},
   "source": [
    "## Exportando dados csv "
   ]
  },
  {
   "cell_type": "code",
   "execution_count": null,
   "metadata": {},
   "outputs": [],
   "source": [
    "df_amarela_tratado = df_amarela.drop(['Cor','Altura'], axis=1)\n",
    "df_amarela_tratado.to_csv('../Dados/dados_amarela.csv',index=False)"
   ]
  },
  {
   "cell_type": "markdown",
   "metadata": {},
   "source": [
    "## Histograma"
   ]
  },
  {
   "cell_type": "code",
   "execution_count": null,
   "metadata": {
    "scrolled": true
   },
   "outputs": [],
   "source": [
    "fig = plt.figure(figsize=(10,4))\n",
    "eixo = fig.add_axes([0,0,1,1])\n",
    "\n",
    "eixo.hist(filtro_amarela['Renda'], bins=50, density=True)\n",
    "eixo.set_title('Histograma', fontsize=15, pad=10)\n",
    "eixo.set_xlabel('Renda do da população amarela brasileira', fontsize=15)\n",
    "eixo.grid(True)\n",
    "\n",
    "cores = {'Média-da-Renda': 'k', 'Mediana-da-Renda': 'r'}\n",
    "\n",
    "eixo.axvline(renda_media_amarela, color = 'k', linestyle='--')\n",
    "eixo.axvline(renda_mediana_amarela, color = 'r', linestyle='--')\n",
    "eixo.legend(cores, fontsize=20)\n",
    "\n",
    "#fig.savefig('../Dados/imagens/histograma_renda_amarela.png', bbox_inches='tight')"
   ]
  },
  {
   "cell_type": "markdown",
   "metadata": {},
   "source": [
    "## BoxPlot "
   ]
  },
  {
   "cell_type": "code",
   "execution_count": null,
   "metadata": {},
   "outputs": [],
   "source": [
    "fig = plt.figure(figsize=(5,4))\n",
    "eixo = fig.add_axes([0,0,1,1])\n",
    "\n",
    "eixo.boxplot(filtro_amarela_bp['Renda'])\n",
    "eixo.set_title('Gráfico de caixa', fontsize=15, pad=10)\n",
    "eixo.set_xticklabels(['Renda população amarela brasileira'])\n",
    "eixo.grid(True)\n",
    "\n",
    "#fig.savefig('../Dados/imagens/boxplot_renda_amarela.png', bbox_inches='tight')"
   ]
  },
  {
   "cell_type": "markdown",
   "metadata": {},
   "source": [
    "# Cálculo estatístico da população masculina brasileira"
   ]
  },
  {
   "cell_type": "code",
   "execution_count": null,
   "metadata": {
    "scrolled": true
   },
   "outputs": [],
   "source": [
    "df_masculino = df[df['Sexo'] == 'Masculino']\n",
    "df_masculino.head()"
   ]
  },
  {
   "cell_type": "code",
   "execution_count": null,
   "metadata": {},
   "outputs": [],
   "source": [
    "filtro_masculino = df_masculino[df_masculino['Renda'] <= 10000] \n",
    "filtro_masculino_bp = df_masculino[df_masculino['Renda'] <= 5000] "
   ]
  },
  {
   "cell_type": "code",
   "execution_count": null,
   "metadata": {},
   "outputs": [],
   "source": [
    "renda_media_masculino = df_masculino['Renda'].mean()\n",
    "renda_media_masculino"
   ]
  },
  {
   "cell_type": "code",
   "execution_count": null,
   "metadata": {},
   "outputs": [],
   "source": [
    "renda_mediana_masculino = df_masculino['Renda'].median()\n",
    "renda_mediana_masculino"
   ]
  },
  {
   "cell_type": "code",
   "execution_count": null,
   "metadata": {
    "scrolled": true
   },
   "outputs": [],
   "source": [
    "q1,_,q3 = df_masculino['Renda'].quantile([0.25,0.5,0.75])"
   ]
  },
  {
   "cell_type": "code",
   "execution_count": null,
   "metadata": {},
   "outputs": [],
   "source": [
    "print('{:.2f} % da população masculina brasileira vive com um salario entre R${:.2f} e R${:.2f}'.format(porcentagem_populacao(df_masculino,q1,q3) *100, q1,q3))"
   ]
  },
  {
   "cell_type": "code",
   "execution_count": null,
   "metadata": {},
   "outputs": [],
   "source": [
    "maximo_masculino = df_masculino['Renda'].max()\n",
    "maximo_masculino"
   ]
  },
  {
   "cell_type": "code",
   "execution_count": null,
   "metadata": {
    "scrolled": false
   },
   "outputs": [],
   "source": [
    "minimo_masculino = df_masculino['Renda'].min()\n",
    "minimo_masculino"
   ]
  },
  {
   "cell_type": "markdown",
   "metadata": {},
   "source": [
    "## Exportando dados csv"
   ]
  },
  {
   "cell_type": "code",
   "execution_count": null,
   "metadata": {},
   "outputs": [],
   "source": [
    "df_masculino_tratado = df_masculino.drop(['Cor','Altura'], axis=1)\n",
    "df_masculino_tratado.to_csv('../Dados/dados_masculino.csv',index=False)"
   ]
  },
  {
   "cell_type": "markdown",
   "metadata": {},
   "source": [
    "## Histograma"
   ]
  },
  {
   "cell_type": "code",
   "execution_count": null,
   "metadata": {
    "scrolled": false
   },
   "outputs": [],
   "source": [
    "fig = plt.figure(figsize=(10,4))\n",
    "eixo = fig.add_axes([0,0,1,1])\n",
    "\n",
    "eixo.hist(filtro_masculino['Renda'], bins=50, density=True)\n",
    "eixo.set_title('Histograma', fontsize=15, pad=10)\n",
    "eixo.set_xlabel('Renda do da população masculina brasileira', fontsize=15)\n",
    "eixo.grid(True)\n",
    "\n",
    "cores = {'Média-da-Renda': 'k', 'Mediana-da-Renda': 'r'}\n",
    "\n",
    "eixo.axvline(renda_media_masculino, color = 'k', linestyle='--')\n",
    "eixo.axvline(renda_mediana_masculino, color = 'r', linestyle='--')\n",
    "eixo.legend(cores, fontsize=20)\n",
    "\n",
    "#fig.savefig('../Dados/imagens/histograma_renda_masculino.png', bbox_inches='tight')"
   ]
  },
  {
   "cell_type": "markdown",
   "metadata": {},
   "source": [
    "## Boxplot"
   ]
  },
  {
   "cell_type": "code",
   "execution_count": null,
   "metadata": {},
   "outputs": [],
   "source": [
    "fig = plt.figure(figsize=(5,4))\n",
    "eixo = fig.add_axes([0,0,1,1])\n",
    "\n",
    "eixo.boxplot(filtro_masculino_bp['Renda'])\n",
    "eixo.set_title('Gráfico de caixa', fontsize=15, pad=10)\n",
    "eixo.set_xticklabels(['Renda população masculina brasileira'])\n",
    "eixo.grid(True)\n",
    "\n",
    "#fig.savefig('../Dados/imagens/boxplot_renda_masculino.png', bbox_inches='tight')"
   ]
  },
  {
   "cell_type": "markdown",
   "metadata": {},
   "source": [
    "# Cálculo estatístico da população feminina brasileira "
   ]
  },
  {
   "cell_type": "code",
   "execution_count": null,
   "metadata": {
    "scrolled": true
   },
   "outputs": [],
   "source": [
    "df_feminino = df[df['Sexo'] == 'Feminino']\n",
    "df_feminino.head()"
   ]
  },
  {
   "cell_type": "code",
   "execution_count": null,
   "metadata": {},
   "outputs": [],
   "source": [
    "filtro_feminino = df_feminino[df_feminino['Renda'] <= 10000]\n",
    "filtro_feminino_bp = df_feminino[df_feminino['Renda'] <= 5000]"
   ]
  },
  {
   "cell_type": "code",
   "execution_count": null,
   "metadata": {},
   "outputs": [],
   "source": [
    "renda_media_feminino = df_feminino['Renda'].mean()\n",
    "renda_media_feminino"
   ]
  },
  {
   "cell_type": "code",
   "execution_count": null,
   "metadata": {},
   "outputs": [],
   "source": [
    "renda_mediana_feminino = df_feminino['Renda'].median()\n",
    "renda_mediana_feminino"
   ]
  },
  {
   "cell_type": "code",
   "execution_count": null,
   "metadata": {
    "scrolled": true
   },
   "outputs": [],
   "source": [
    "q1,_,q3 = df_feminino['Renda'].quantile([0.25,0.5,0.75])"
   ]
  },
  {
   "cell_type": "code",
   "execution_count": null,
   "metadata": {},
   "outputs": [],
   "source": [
    "print('{:.2f} % da população feminina vive com um salario entre R${:.2f} e R${:.2f}'.format(porcentagem_populacao(df_feminino,q1,q3) *100, q1,q3))"
   ]
  },
  {
   "cell_type": "code",
   "execution_count": null,
   "metadata": {},
   "outputs": [],
   "source": [
    "variancia_feminino = df_feminino['Renda'].var()\n",
    "variancia_feminino"
   ]
  },
  {
   "cell_type": "code",
   "execution_count": null,
   "metadata": {},
   "outputs": [],
   "source": [
    "maximo_feminino = df_feminino['Renda'].max()\n",
    "maximo_feminino"
   ]
  },
  {
   "cell_type": "code",
   "execution_count": null,
   "metadata": {},
   "outputs": [],
   "source": [
    "minimo_feminino = df_feminino['Renda'].min()\n",
    "minimo_feminino"
   ]
  },
  {
   "cell_type": "markdown",
   "metadata": {},
   "source": [
    "## Exportando dados csv "
   ]
  },
  {
   "cell_type": "code",
   "execution_count": null,
   "metadata": {},
   "outputs": [],
   "source": [
    "df_feminino_tratado = df_feminino.drop(['Cor','Altura'], axis=1)\n",
    "df_feminino_tratado.to_csv('../Dados/dados_feminio.csv',index=False)"
   ]
  },
  {
   "cell_type": "markdown",
   "metadata": {},
   "source": [
    "## Histograma"
   ]
  },
  {
   "cell_type": "code",
   "execution_count": null,
   "metadata": {
    "scrolled": true
   },
   "outputs": [],
   "source": [
    "fig = plt.figure(figsize=(10,4))\n",
    "eixo = fig.add_axes([0,0,1,1])\n",
    "\n",
    "eixo.hist(filtro_feminino['Renda'], bins=50, density=True)\n",
    "eixo.set_title('Histograma', fontsize=15, pad=10)\n",
    "eixo.set_xlabel('Renda do da população feminina brasileira', fontsize=15)\n",
    "eixo.grid(True)\n",
    "\n",
    "cores = {'Média-da-Renda': 'k', 'Mediana-da-Renda': 'r'}\n",
    "\n",
    "eixo.axvline(renda_media_feminino, color = 'k', linestyle='--')\n",
    "eixo.axvline(renda_mediana_feminino, color = 'r', linestyle='--')\n",
    "eixo.legend(cores, fontsize=20)\n",
    "\n",
    "#fig.savefig('../Dados/imagens/histograma_renda_feminino.png', bbox_inches='tight')"
   ]
  },
  {
   "cell_type": "markdown",
   "metadata": {},
   "source": [
    "## BoxPlot "
   ]
  },
  {
   "cell_type": "code",
   "execution_count": null,
   "metadata": {},
   "outputs": [],
   "source": [
    "fig = plt.figure(figsize=(5,4))\n",
    "eixo = fig.add_axes([0,0,1,1])\n",
    "\n",
    "eixo.boxplot(filtro_feminino_bp['Renda'])\n",
    "eixo.set_title('Gráfico de caixa', fontsize=15, pad=10)\n",
    "eixo.set_xticklabels(['Renda população feminina brasileira'])\n",
    "eixo.grid(True)\n",
    "\n",
    "#fig.savefig('../Dados/imagens/boxPlot_renda_feminino.png', bbox_inches='tight')"
   ]
  },
  {
   "cell_type": "markdown",
   "metadata": {},
   "source": [
    "# Comparações por numero de população"
   ]
  },
  {
   "cell_type": "code",
   "execution_count": null,
   "metadata": {},
   "outputs": [],
   "source": [
    "df_cor = df[['Cor']]\n",
    "df_cor.head()"
   ]
  },
  {
   "cell_type": "code",
   "execution_count": null,
   "metadata": {},
   "outputs": [],
   "source": [
    "df_cor.drop_duplicates(inplace=True)"
   ]
  },
  {
   "cell_type": "code",
   "execution_count": null,
   "metadata": {},
   "outputs": [],
   "source": [
    "df_cor"
   ]
  },
  {
   "cell_type": "code",
   "execution_count": null,
   "metadata": {},
   "outputs": [],
   "source": [
    "df_cor.index"
   ]
  },
  {
   "cell_type": "code",
   "execution_count": null,
   "metadata": {},
   "outputs": [],
   "source": [
    "df_cor.shape[0]"
   ]
  },
  {
   "cell_type": "code",
   "execution_count": null,
   "metadata": {},
   "outputs": [],
   "source": [
    "range(df_cor.shape[0])"
   ]
  },
  {
   "cell_type": "code",
   "execution_count": null,
   "metadata": {},
   "outputs": [],
   "source": [
    "for i in range(df_cor.shape[0]):\n",
    "    print(i)"
   ]
  },
  {
   "cell_type": "code",
   "execution_count": null,
   "metadata": {},
   "outputs": [],
   "source": [
    "df_cor.index = range(df_cor.shape[0])"
   ]
  },
  {
   "cell_type": "code",
   "execution_count": null,
   "metadata": {},
   "outputs": [],
   "source": [
    "df_cor"
   ]
  },
  {
   "cell_type": "code",
   "execution_count": null,
   "metadata": {},
   "outputs": [],
   "source": [
    "n_pardos = df_pardos.shape[0]\n",
    "n_brancos = df_brancos.shape[0]\n",
    "n_preta = df_preta.shape[0]\n",
    "n_amarela = df_amarela.shape[0]\n",
    "n_indigena = df_indigena.shape[0]"
   ]
  },
  {
   "cell_type": "code",
   "execution_count": null,
   "metadata": {},
   "outputs": [],
   "source": [
    "t = [n_pardos,n_brancos,n_preta,n_amarela,n_indigena]"
   ]
  },
  {
   "cell_type": "code",
   "execution_count": null,
   "metadata": {},
   "outputs": [],
   "source": [
    "df_cor['Populacao'] = t"
   ]
  },
  {
   "cell_type": "code",
   "execution_count": null,
   "metadata": {},
   "outputs": [],
   "source": [
    "df_cor"
   ]
  },
  {
   "cell_type": "code",
   "execution_count": null,
   "metadata": {},
   "outputs": [],
   "source": [
    "n_amarela"
   ]
  },
  {
   "cell_type": "code",
   "execution_count": null,
   "metadata": {},
   "outputs": [],
   "source": [
    "df_cor['Populacao'].sum()"
   ]
  },
  {
   "cell_type": "code",
   "execution_count": null,
   "metadata": {},
   "outputs": [],
   "source": [
    "df.shape[0]"
   ]
  },
  {
   "cell_type": "code",
   "execution_count": null,
   "metadata": {},
   "outputs": [],
   "source": [
    "populacao = df['Cor'].value_counts()"
   ]
  },
  {
   "cell_type": "code",
   "execution_count": null,
   "metadata": {},
   "outputs": [],
   "source": [
    "populacao"
   ]
  },
  {
   "cell_type": "code",
   "execution_count": null,
   "metadata": {},
   "outputs": [],
   "source": [
    "df_cor2 = pd.DataFrame(df['Cor'].value_counts())"
   ]
  },
  {
   "cell_type": "code",
   "execution_count": null,
   "metadata": {},
   "outputs": [],
   "source": [
    "df_cor2"
   ]
  },
  {
   "cell_type": "markdown",
   "metadata": {},
   "source": [
    "# Comparando BoxPlots por Cor "
   ]
  },
  {
   "cell_type": "code",
   "execution_count": null,
   "metadata": {},
   "outputs": [],
   "source": [
    "fig = plt.figure(figsize=(8,4))\n",
    "eixo = fig.add_axes([0,0,1,1])\n",
    "\n",
    "eixo.boxplot([filtro_pardos_bp['Renda'],filtro_branco_bp['Renda'],\n",
    "             filtro_preta_bp['Renda'],filtro_indigena_bp['Renda'],\n",
    "             filtro_amarela_bp['Renda']])\n",
    "eixo.set_title('Boxplot de renda por maior numero de População', fontsize=15, pad=10)\n",
    "eixo.set_xticklabels(['parda','branca','preta','indigena', 'amarela'])\n",
    "eixo.grid(True)\n",
    "\n",
    "#fig.savefig('../Dados/imagens/boxplot_renda_cor.png', bbox_inches='tight')"
   ]
  },
  {
   "cell_type": "markdown",
   "metadata": {},
   "source": [
    "# Comparando BoxPlot por Sexo "
   ]
  },
  {
   "cell_type": "code",
   "execution_count": null,
   "metadata": {},
   "outputs": [],
   "source": [
    "fig = plt.figure(figsize=(5,4))\n",
    "eixo = fig.add_axes([0,0,1,1])\n",
    "\n",
    "eixo.boxplot([filtro_masculino_bp['Renda'],filtro_feminino_bp['Renda']])\n",
    "eixo.set_title('Boxplot de renda por maior numero de População', fontsize=15, pad=10)\n",
    "eixo.set_xticklabels(['masculino','feminino'])\n",
    "eixo.grid(True)\n",
    "\n",
    "#fig.savefig('../Dados/imagens/boxplot_renda_sexo.png', bbox_inches='tight')"
   ]
  },
  {
   "cell_type": "markdown",
   "metadata": {},
   "source": [
    "# Conclusão\n",
    "\n",
    "    Foi utilizado um banco de dados em csv retirado do site do IBGE e tratado pelo curso de estatística da plataforma alura. Esse banco tem os respectivos dados: UF,Sexo, Cor, Anos de Estudo, Idade, Renda e Altura. A coleta de dados foi feita por entrevista. Um detalhe nesse banco é que somente foram coletados os dados dos responsáveis pela residência. Ou seja, o indivíduo que provém o sustento da família. Nesse estudo eu fiz uma distinção por cor e por sexo dentro desses dados. Existem um erros na autodeclaração por cor, uma vez que o brasil é um país miscigenado e existe um racismo estruturado na nossa cultura. Sendo assim uma parcela do espectro das cores ( bracos, pretos e pardos) não são bem definidos em um determinado nível econômico.\n",
    "    \n",
    "    No começo do estudo eu fiz um histograma da renda de todos os brasilerios. E visualmente se nota uma Assimetria à direita,pois a média está à direita da mediana. Logo não se pode afirmar que essa distribuição seja uma distribuição normal. Ou seja, existe uma maior concetração de população concentrada nos valores menores de renda. Além de essa função não passar no terte de normalidade, o que rejeita a hipótese de essa distribuição realmente não ser uma distribuição normal. Só com visualização desse gráfico pode se dizer que exite uma desigualdade sócial.E sabe-se que 76.10 % da população brasileira vive com um salario entre R$788.00 e R$2000.00. \n",
    "    \n",
    "    A desigualdade no Brasil se divide em inumeras outras desigualdades. Para entende-lás o IBGE separou a população brasileria em alguns grupos étnicos. O primeiro grupo a ser análisado é os pardos. Basicamente são os mescigenados entre varias etnias. É o grupo mais populoso e 75.26 % da população parda vive com um salario entre R$750.00 e R$1600.00.\n",
    "    \n",
    "    A segunda população mais numerosa no país é a branca. Porém não se pode confiar muito nesse dado.  Uma vez que existe o racismo estruturado na nossa cultura. Como os dados são autodeclarados e de se acreditar que exista um numero ainda maior de pardos e uma quantidade ainda menor de brancos. Enfim, nesse banco de dados, 78.93 % da população branca vive com um salario entre R$908.00 e R$3000.00. Logo demonstra uma desigualdade entre a população branca e a parda. Porém essa desilgualdade pode ser ainda maior. \n",
    "    \n",
    "    Os negros vêm em seguida em numero populacional. Ao análisar esses dados, deve-se tomar um cuidado, pois, sabendo que existe um racismo estruturalizado na nossa sociedade, pode ocorrer viesses negátivos com esses dados. Sabendo disso a análise do histograma de venda visualmente parece ser mais desigual e mais assimetrica à direita com 76.38 % da população preta vivem com um salario entre R$788.00 e R$1600.00.\n",
    "    \n",
    "    Os indigenas e os asiaticos estão em menor numero populacional. E podemos ver uma grande diferença de renda entre eles. Cerca de 78.12 % da população amarela vive com um salario entre R$1200.00 e R$5000.00 e 76.19 % da população indigena vive com um salario entre R$300.00 e R$1400.00. Nota-se que os indigenas são os mais pobres.Os Asiáticos são os mais ricos e de menor numero populacional. Isso se deve a consequências históricas e politicas.\n",
    "    \n",
    "    A última compareção feita foi entre a população feminina e masculina.  O que demostrou uma desigualdade entre generos bem notável. Afinal, 75.06 % da população feminina vive com um salario entre R$700.00 e R$1500.00 e 75.80 % da população masculina brasileira vive com um salario entre R$800.00 e R$2300.00. Logo, esses dados mostra que a desigualdade de genero é uma realidade no Brasil.\n",
    "    \n",
    "     \n",
    "    "
   ]
  },
  {
   "cell_type": "code",
   "execution_count": null,
   "metadata": {},
   "outputs": [],
   "source": []
  }
 ],
 "metadata": {
  "kernelspec": {
   "display_name": "Python 3",
   "language": "python",
   "name": "python3"
  },
  "language_info": {
   "codemirror_mode": {
    "name": "ipython",
    "version": 3
   },
   "file_extension": ".py",
   "mimetype": "text/x-python",
   "name": "python",
   "nbconvert_exporter": "python",
   "pygments_lexer": "ipython3",
   "version": "3.6.5"
  }
 },
 "nbformat": 4,
 "nbformat_minor": 2
}
